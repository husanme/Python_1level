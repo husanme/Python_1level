{
 "cells": [
  {
   "cell_type": "code",
   "execution_count": 1,
   "id": "08fd54c1-1073-488c-9ba5-91e3cf754bd6",
   "metadata": {},
   "outputs": [
    {
     "name": "stdout",
     "output_type": "stream",
     "text": [
      "4\n"
     ]
    }
   ],
   "source": [
    "print (2+2)"
   ]
  },
  {
   "cell_type": "markdown",
   "id": "20aa51fb-bfb6-4f14-aa42-71251ae8ea10",
   "metadata": {},
   "source": [
    "#Prueba"
   ]
  },
  {
   "cell_type": "code",
   "execution_count": 1,
   "id": "e031f7ff-c731-45cf-9c3f-ad9e6f6d0feb",
   "metadata": {},
   "outputs": [],
   "source": [
    "## Seccion"
   ]
  },
  {
   "cell_type": "code",
   "execution_count": 2,
   "id": "1551905c-c7fe-41ce-9a3e-a00148f72b62",
   "metadata": {},
   "outputs": [],
   "source": [
    "### Subsection"
   ]
  },
  {
   "cell_type": "code",
   "execution_count": null,
   "id": "9090c4a3-2812-4d0c-b045-934bc4ba9171",
   "metadata": {},
   "outputs": [],
   "source": []
  }
 ],
 "metadata": {
  "kernelspec": {
   "display_name": "Python 3 (ipykernel)",
   "language": "python",
   "name": "python3"
  },
  "language_info": {
   "codemirror_mode": {
    "name": "ipython",
    "version": 3
   },
   "file_extension": ".py",
   "mimetype": "text/x-python",
   "name": "python",
   "nbconvert_exporter": "python",
   "pygments_lexer": "ipython3",
   "version": "3.11.9"
  }
 },
 "nbformat": 4,
 "nbformat_minor": 5
}
